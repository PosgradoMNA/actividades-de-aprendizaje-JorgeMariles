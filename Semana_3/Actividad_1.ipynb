{
  "cells": [
    {
      "cell_type": "markdown",
      "metadata": {
        "colab": {
          "base_uri": "https://localhost:8080/"
        },
        "id": "LzUSMM79NR9P",
        "outputId": "0e6cb421-1096-426a-b31a-f61d059def81"
      },
      "source": [
        "# Jorge Mariles Estrada A01335663"
      ]
    },
    {
      "cell_type": "markdown",
      "metadata": {
        "colab_type": "text",
        "id": "view-in-github"
      },
      "source": [
        "<a href=\"https://colab.research.google.com/github/tec03/ParaAssignment01-/blob/main/assignment01.ipynb\" target=\"_parent\"><img src=\"https://colab.research.google.com/assets/colab-badge.svg\" alt=\"Open In Colab\"/></a>"
      ]
    },
    {
      "cell_type": "code",
      "execution_count": 295,
      "metadata": {
        "id": "mxM_WppZPMFx"
      },
      "outputs": [],
      "source": [
        "import pandas as pd\n",
        "import numpy as np\n"
      ]
    },
    {
      "cell_type": "code",
      "execution_count": 296,
      "metadata": {},
      "outputs": [
        {
          "data": {
            "text/html": [
              "<div>\n",
              "<style scoped>\n",
              "    .dataframe tbody tr th:only-of-type {\n",
              "        vertical-align: middle;\n",
              "    }\n",
              "\n",
              "    .dataframe tbody tr th {\n",
              "        vertical-align: top;\n",
              "    }\n",
              "\n",
              "    .dataframe thead th {\n",
              "        text-align: right;\n",
              "    }\n",
              "</style>\n",
              "<table border=\"1\" class=\"dataframe\">\n",
              "  <thead>\n",
              "    <tr style=\"text-align: right;\">\n",
              "      <th></th>\n",
              "      <th>ID</th>\n",
              "      <th>X1</th>\n",
              "      <th>X2</th>\n",
              "      <th>X3</th>\n",
              "      <th>X4</th>\n",
              "      <th>X5</th>\n",
              "      <th>X6</th>\n",
              "      <th>X7</th>\n",
              "      <th>X8</th>\n",
              "      <th>X9</th>\n",
              "      <th>...</th>\n",
              "      <th>X15</th>\n",
              "      <th>X16</th>\n",
              "      <th>X17</th>\n",
              "      <th>X18</th>\n",
              "      <th>X19</th>\n",
              "      <th>X20</th>\n",
              "      <th>X21</th>\n",
              "      <th>X22</th>\n",
              "      <th>X23</th>\n",
              "      <th>Y</th>\n",
              "    </tr>\n",
              "  </thead>\n",
              "  <tbody>\n",
              "    <tr>\n",
              "      <th>0</th>\n",
              "      <td>1</td>\n",
              "      <td>20000</td>\n",
              "      <td>2.0</td>\n",
              "      <td>2.0</td>\n",
              "      <td>1.0</td>\n",
              "      <td>24.0</td>\n",
              "      <td>2.0</td>\n",
              "      <td>2.0</td>\n",
              "      <td>-1.0</td>\n",
              "      <td>-1.0</td>\n",
              "      <td>...</td>\n",
              "      <td>0.0</td>\n",
              "      <td>0.0</td>\n",
              "      <td>0.0</td>\n",
              "      <td>0.0</td>\n",
              "      <td>689.0</td>\n",
              "      <td>0.0</td>\n",
              "      <td>0.0</td>\n",
              "      <td>0.0</td>\n",
              "      <td>0.0</td>\n",
              "      <td>1.0</td>\n",
              "    </tr>\n",
              "    <tr>\n",
              "      <th>1</th>\n",
              "      <td>2</td>\n",
              "      <td>120000</td>\n",
              "      <td>2.0</td>\n",
              "      <td>2.0</td>\n",
              "      <td>2.0</td>\n",
              "      <td>26.0</td>\n",
              "      <td>-1.0</td>\n",
              "      <td>2.0</td>\n",
              "      <td>0.0</td>\n",
              "      <td>0.0</td>\n",
              "      <td>...</td>\n",
              "      <td>3272.0</td>\n",
              "      <td>3455.0</td>\n",
              "      <td>3261.0</td>\n",
              "      <td>0.0</td>\n",
              "      <td>1000.0</td>\n",
              "      <td>1000.0</td>\n",
              "      <td>1000.0</td>\n",
              "      <td>0.0</td>\n",
              "      <td>2000.0</td>\n",
              "      <td>1.0</td>\n",
              "    </tr>\n",
              "    <tr>\n",
              "      <th>2</th>\n",
              "      <td>3</td>\n",
              "      <td>90000</td>\n",
              "      <td>2.0</td>\n",
              "      <td>2.0</td>\n",
              "      <td>2.0</td>\n",
              "      <td>34.0</td>\n",
              "      <td>0.0</td>\n",
              "      <td>0.0</td>\n",
              "      <td>0.0</td>\n",
              "      <td>0.0</td>\n",
              "      <td>...</td>\n",
              "      <td>14331.0</td>\n",
              "      <td>14948.0</td>\n",
              "      <td>15549.0</td>\n",
              "      <td>1518.0</td>\n",
              "      <td>1500.0</td>\n",
              "      <td>1000.0</td>\n",
              "      <td>1000.0</td>\n",
              "      <td>1000.0</td>\n",
              "      <td>5000.0</td>\n",
              "      <td>0.0</td>\n",
              "    </tr>\n",
              "    <tr>\n",
              "      <th>3</th>\n",
              "      <td>4</td>\n",
              "      <td>50000</td>\n",
              "      <td>2.0</td>\n",
              "      <td>2.0</td>\n",
              "      <td>1.0</td>\n",
              "      <td>37.0</td>\n",
              "      <td>0.0</td>\n",
              "      <td>0.0</td>\n",
              "      <td>0.0</td>\n",
              "      <td>0.0</td>\n",
              "      <td>...</td>\n",
              "      <td>28314.0</td>\n",
              "      <td>28959.0</td>\n",
              "      <td>29547.0</td>\n",
              "      <td>2000.0</td>\n",
              "      <td>2019.0</td>\n",
              "      <td>1200.0</td>\n",
              "      <td>1100.0</td>\n",
              "      <td>1069.0</td>\n",
              "      <td>1000.0</td>\n",
              "      <td>0.0</td>\n",
              "    </tr>\n",
              "    <tr>\n",
              "      <th>4</th>\n",
              "      <td>5</td>\n",
              "      <td>50000</td>\n",
              "      <td>1.0</td>\n",
              "      <td>2.0</td>\n",
              "      <td>1.0</td>\n",
              "      <td>57.0</td>\n",
              "      <td>-1.0</td>\n",
              "      <td>0.0</td>\n",
              "      <td>-1.0</td>\n",
              "      <td>0.0</td>\n",
              "      <td>...</td>\n",
              "      <td>20940.0</td>\n",
              "      <td>19146.0</td>\n",
              "      <td>19131.0</td>\n",
              "      <td>2000.0</td>\n",
              "      <td>36681.0</td>\n",
              "      <td>10000.0</td>\n",
              "      <td>9000.0</td>\n",
              "      <td>689.0</td>\n",
              "      <td>679.0</td>\n",
              "      <td>0.0</td>\n",
              "    </tr>\n",
              "  </tbody>\n",
              "</table>\n",
              "<p>5 rows × 25 columns</p>\n",
              "</div>"
            ],
            "text/plain": [
              "   ID      X1   X2   X3   X4    X5   X6   X7   X8   X9  ...      X15      X16  \\\n",
              "0   1   20000  2.0  2.0  1.0  24.0  2.0  2.0 -1.0 -1.0  ...      0.0      0.0   \n",
              "1   2  120000  2.0  2.0  2.0  26.0 -1.0  2.0  0.0  0.0  ...   3272.0   3455.0   \n",
              "2   3   90000  2.0  2.0  2.0  34.0  0.0  0.0  0.0  0.0  ...  14331.0  14948.0   \n",
              "3   4   50000  2.0  2.0  1.0  37.0  0.0  0.0  0.0  0.0  ...  28314.0  28959.0   \n",
              "4   5   50000  1.0  2.0  1.0  57.0 -1.0  0.0 -1.0  0.0  ...  20940.0  19146.0   \n",
              "\n",
              "       X17     X18      X19      X20     X21     X22     X23    Y  \n",
              "0      0.0     0.0    689.0      0.0     0.0     0.0     0.0  1.0  \n",
              "1   3261.0     0.0   1000.0   1000.0  1000.0     0.0  2000.0  1.0  \n",
              "2  15549.0  1518.0   1500.0   1000.0  1000.0  1000.0  5000.0  0.0  \n",
              "3  29547.0  2000.0   2019.0   1200.0  1100.0  1069.0  1000.0  0.0  \n",
              "4  19131.0  2000.0  36681.0  10000.0  9000.0   689.0   679.0  0.0  \n",
              "\n",
              "[5 rows x 25 columns]"
            ]
          },
          "execution_count": 296,
          "metadata": {},
          "output_type": "execute_result"
        }
      ],
      "source": [
        "df=pd.read_csv('https://raw.githubusercontent.com/PosgradoMNA/Actividades_Aprendizaje-/main/default%20of%20credit%20card%20clients.csv')\n",
        "df.head()"
      ]
    },
    {
      "cell_type": "code",
      "execution_count": 297,
      "metadata": {},
      "outputs": [
        {
          "data": {
            "text/plain": [
              "(30000, 25)"
            ]
          },
          "execution_count": 297,
          "metadata": {},
          "output_type": "execute_result"
        }
      ],
      "source": [
        "df.shape"
      ]
    },
    {
      "cell_type": "code",
      "execution_count": 298,
      "metadata": {},
      "outputs": [
        {
          "data": {
            "text/plain": [
              "ID     False\n",
              "X1     False\n",
              "X2      True\n",
              "X3      True\n",
              "X4      True\n",
              "X5      True\n",
              "X6      True\n",
              "X7      True\n",
              "X8      True\n",
              "X9      True\n",
              "X10     True\n",
              "X11     True\n",
              "X12     True\n",
              "X13     True\n",
              "X14     True\n",
              "X15     True\n",
              "X16     True\n",
              "X17     True\n",
              "X18     True\n",
              "X19     True\n",
              "X20     True\n",
              "X21     True\n",
              "X22     True\n",
              "X23     True\n",
              "Y       True\n",
              "dtype: bool"
            ]
          },
          "execution_count": 298,
          "metadata": {},
          "output_type": "execute_result"
        }
      ],
      "source": [
        "df.isnull().any()"
      ]
    },
    {
      "cell_type": "code",
      "execution_count": 299,
      "metadata": {},
      "outputs": [
        {
          "name": "stdout",
          "output_type": "stream",
          "text": [
            "nans in ID: 0\n",
            "nans in X1: 0\n",
            "nans in X2: 1\n",
            "nans in X3: 2\n",
            "nans in X4: 2\n",
            "nans in X5: 5\n",
            "nans in X6: 3\n",
            "nans in X7: 5\n",
            "nans in X8: 7\n",
            "nans in X9: 9\n",
            "nans in X10: 16\n",
            "nans in X11: 14\n",
            "nans in X12: 11\n",
            "nans in X13: 11\n",
            "nans in X14: 13\n",
            "nans in X15: 15\n",
            "nans in X16: 17\n",
            "nans in X17: 10\n",
            "nans in X18: 8\n",
            "nans in X19: 9\n",
            "nans in X20: 8\n",
            "nans in X21: 11\n",
            "nans in X22: 11\n",
            "nans in X23: 5\n",
            "nans in Y: 3\n"
          ]
        }
      ],
      "source": [
        "for x in df.columns:\n",
        "    print(f'nans in {x}:',df.loc[df[x].isna()].shape[0])"
      ]
    },
    {
      "cell_type": "markdown",
      "metadata": {},
      "source": [
        "\n",
        "Attribute Information:\n",
        "\n",
        "This research employed a binary variable, default payment (Yes = 1, No = 0), as the response variable. This study reviewed the literature and used the following 23 variables as explanatory variables: \\\n",
        "X1: Amount of the given credit (NT dollar): it includes both the individual consumer credit and his/her family (supplementary) credit. \\\n",
        "X2: Gender (1 = male; 2 = female). \\\n",
        "X3: Education (1 = graduate school; 2 = university; 3 = high school; 4 = others). \\\n",
        "X4: Marital status (1 = married; 2 = single; 3 = others). \\\n",
        "X5: Age (year). \\\n",
        "X6 - X11: History of past payment. We tracked the past monthly payment records (from April to September, 2005) as follows: X6 = the repayment status in September, 2005; X7 = the repayment status in August, 2005; . . .;X11 = the repayment status in April, 2005. The measurement scale for the repayment status is: -1 = pay duly; 1 = payment delay for one month; 2 = payment delay for two months; . . .; 8 = payment delay for eight months; 9 = payment delay for nine months and above. \\\n",
        "X12-X17: Amount of bill statement (NT dollar). X12 = amount of bill statement in September, 2005; X13 = amount of bill statement in August, 2005; . . .; X17 = amount of bill statement in April, 2005. \\\n",
        "X18-X23: Amount of previous payment (NT dollar). X18 = amount paid in September, 2005; X19 = amount paid in August, 2005; . . .;X23 = amount paid in April, 2005. \\"
      ]
    },
    {
      "cell_type": "markdown",
      "metadata": {},
      "source": [
        "# Explicacion \n",
        "Y tiene valores faltantes, se tiraran todas las filas donde y sea faltante, ya que son solo 3 datos\n",
        "\n",
        "X1 no tienen valores faltantes. No se les va a hacer ningun tratamiento \n",
        "\n",
        "X2 al filtrar Y todos los valores de X2 en nan menos uno tambien son filtrados, se filtrara el valor nulo de x2\n",
        "\n",
        "X3 Educacion se imputara a otros, solo queda un valor nan \n",
        "\n",
        "X4 al filtrar Y y X2 todos los valores de X4 en nan tambien son filtrados\n",
        "\n",
        "X5 se imputara con la moda, creo es una buena manera de lidear con la edad faltante\n",
        "\n",
        "X6 - X11 como los valores estan relacionados se filtraran si en la fila en este subset hay amas de 4 valores faltantes y los demas se imputaran con la moda de esa misma fila ya que se tratan de los pagos de ese cliente \n",
        "\n",
        "X12-X17 se le aplicara un filtro similar al anterior con un treshhold por fila y luego una imputacion por promedio gastado\n",
        "\n",
        "X18-X23 misma teoria que de x12-x17"
      ]
    },
    {
      "cell_type": "code",
      "execution_count": 300,
      "metadata": {},
      "outputs": [
        {
          "name": "stdout",
          "output_type": "stream",
          "text": [
            "3\n",
            "nans en Y  False\n"
          ]
        }
      ],
      "source": [
        "print(df.loc[df.Y.isna()].shape[0])\n",
        "df=df.dropna(subset=['Y'])\n",
        "print(\"nans en Y \", df.Y.isna().any())\n"
      ]
    },
    {
      "cell_type": "code",
      "execution_count": 301,
      "metadata": {},
      "outputs": [
        {
          "name": "stdout",
          "output_type": "stream",
          "text": [
            "1\n",
            "nans en X2  True\n"
          ]
        }
      ],
      "source": [
        "print(df.loc[df.X2.isna()].shape[0])\n",
        "df=df.dropna(subset=['X2'])\n",
        "print(\"nans en X2 \", df.X3.isna().any())"
      ]
    },
    {
      "cell_type": "code",
      "execution_count": 302,
      "metadata": {},
      "outputs": [
        {
          "name": "stdout",
          "output_type": "stream",
          "text": [
            "1\n",
            "nans en X3  False\n"
          ]
        }
      ],
      "source": [
        "print(df.loc[df.X3.isna()].shape[0])\n",
        "df.loc[df.X3.isna()]=4\n",
        "print(\"nans en X3 \", df.X3.isna().any())"
      ]
    },
    {
      "cell_type": "code",
      "execution_count": 303,
      "metadata": {},
      "outputs": [
        {
          "name": "stdout",
          "output_type": "stream",
          "text": [
            "0\n",
            "nans en X4  False\n"
          ]
        }
      ],
      "source": [
        "print(df.loc[df.X4.isna()].shape[0])\n",
        "print(\"nans en X4 \", df.X4.isna().any())"
      ]
    },
    {
      "cell_type": "code",
      "execution_count": 304,
      "metadata": {},
      "outputs": [
        {
          "name": "stdout",
          "output_type": "stream",
          "text": [
            "3\n",
            "nans en X5  False\n"
          ]
        }
      ],
      "source": [
        "print(df.loc[df.X5.isna()].shape[0])\n",
        "df.loc[df.X5.isna()]=int(df.X5.mode())\n",
        "print(\"nans en X5 \", df.X5.isna().any())"
      ]
    },
    {
      "cell_type": "code",
      "execution_count": 305,
      "metadata": {},
      "outputs": [
        {
          "name": "stdout",
          "output_type": "stream",
          "text": [
            "------------------------------Cant inicial-------------------------------------------\n",
            "nans in X6: 1\n",
            "nans in X7: 3\n",
            "nans in X8: 5\n",
            "nans in X9: 7\n",
            "nans in X10: 14\n",
            "nans in X11: 12\n",
            "------------------------------Treshhold-------------------------------------------\n",
            "nans in X6: 0\n",
            "nans in X7: 0\n",
            "nans in X8: 2\n",
            "nans in X9: 4\n",
            "nans in X10: 11\n",
            "nans in X11: 9\n",
            "------------------------------imputacion-------------------------------------------\n",
            "nans in X6: 0\n",
            "nans in X7: 0\n",
            "nans in X8: 0\n",
            "nans in X9: 0\n",
            "nans in X10: 0\n",
            "nans in X11: 0\n"
          ]
        }
      ],
      "source": [
        "print('------------------------------Cant inicial-------------------------------------------')\n",
        "for x in df.columns[6:12]:\n",
        "    print(f'nans in {x}:',df.loc[df[x].isna()].shape[0])\n",
        "print('------------------------------Treshhold-------------------------------------------')\n",
        "\n",
        "df.dropna(thresh = 4,  \n",
        "           axis = 0, \n",
        "           inplace = True,\n",
        "           subset=['X6','X7','X8','X9','X10','X11']\n",
        "           ) \n",
        "for x in df.columns[6:12]:\n",
        "    print(f'nans in {x}:',df.loc[df[x].isna()].shape[0])\n",
        "print('------------------------------imputacion-------------------------------------------')\n",
        "# fill with moda de cada cliente en los que sobran \n",
        "df.loc[df[['X6','X7','X8','X9','X10','X11']].isna().any(axis=1),['X6','X7','X8','X9','X10','X11']]=df.loc[df[['X6','X7','X8','X9','X10','X11']].isna().any(axis=1)][['X6','X7','X8','X9','X10','X11']].apply(lambda x: x.fillna(x.mode()[0] ) ,axis=1 )\n",
        "for x in df.columns[6:12]:\n",
        "    print(f'nans in {x}:',df.loc[df[x].isna()].shape[0])\n"
      ]
    },
    {
      "cell_type": "code",
      "execution_count": 309,
      "metadata": {},
      "outputs": [
        {
          "name": "stdout",
          "output_type": "stream",
          "text": [
            "------------------------------Cant inicial-------------------------------------------\n",
            "nans in X12: 0\n",
            "nans in X13: 0\n",
            "nans in X14: 0\n",
            "nans in X15: 0\n",
            "nans in X16: 0\n",
            "nans in X17: 0\n",
            "------------------------------Treshhold-------------------------------------------\n",
            "nans in X12: 0\n",
            "nans in X13: 0\n",
            "nans in X14: 0\n",
            "nans in X15: 0\n",
            "nans in X16: 0\n",
            "nans in X17: 0\n",
            "------------------------------imputacion-------------------------------------------\n",
            "nans in X12: 0\n",
            "nans in X13: 0\n",
            "nans in X14: 0\n",
            "nans in X15: 0\n",
            "nans in X16: 0\n",
            "nans in X17: 0\n"
          ]
        }
      ],
      "source": [
        "print('------------------------------Cant inicial-------------------------------------------')\n",
        "for x in df.columns[12:18]:\n",
        "    print(f'nans in {x}:',df.loc[df[x].isna()].shape[0])\n",
        "print('------------------------------Treshhold-------------------------------------------')\n",
        "\n",
        "df.dropna(thresh = 4,  #if there is not 5 nan values, the column will be eliminated \n",
        "           axis = 0, \n",
        "           inplace = True,\n",
        "           subset=['X12','X13','X14','X15','X16','X17']\n",
        "           ) \n",
        "for x in df.columns[12:18]:\n",
        "    print(f'nans in {x}:',df.loc[df[x].isna()].shape[0])\n",
        "print('------------------------------imputacion-------------------------------------------')\n",
        "# fill with moda de cada cliente en los que sobran \n",
        "df.loc[df[['X12','X13','X14','X15','X16','X17']].isna().any(axis=1),['X12','X13','X14','X15','X16','X17']]=df.loc[df[['X12','X13','X14','X15','X16','X17']].isna().any(axis=1)][['X12','X13','X14','X15','X16','X17']].apply(lambda x: x.fillna(x.mean() ) ,axis=1 )\n",
        "for x in df.columns[12:18]:\n",
        "    print(f'nans in {x}:',df.loc[df[x].isna()].shape[0])"
      ]
    },
    {
      "cell_type": "code",
      "execution_count": 310,
      "metadata": {},
      "outputs": [
        {
          "name": "stdout",
          "output_type": "stream",
          "text": [
            "------------------------------Cant inicial-------------------------------------------\n",
            "nans in X18: 0\n",
            "nans in X19: 0\n",
            "nans in X20: 0\n",
            "nans in X21: 0\n",
            "nans in X22: 0\n",
            "nans in X23: 0\n",
            "------------------------------Treshhold-------------------------------------------\n",
            "nans in X18: 0\n",
            "nans in X19: 0\n",
            "nans in X20: 0\n",
            "nans in X21: 0\n",
            "nans in X22: 0\n",
            "nans in X23: 0\n",
            "------------------------------imputacion-------------------------------------------\n",
            "nans in X18: 0\n",
            "nans in X19: 0\n",
            "nans in X20: 0\n",
            "nans in X21: 0\n",
            "nans in X22: 0\n",
            "nans in X23: 0\n"
          ]
        }
      ],
      "source": [
        "print('------------------------------Cant inicial-------------------------------------------')\n",
        "for x in df.columns[18:24]:\n",
        "    print(f'nans in {x}:',df.loc[df[x].isna()].shape[0])\n",
        "print('------------------------------Treshhold-------------------------------------------')\n",
        "\n",
        "df.dropna(thresh = 4,  #if there is not 5 nan values, the column will be eliminated \n",
        "           axis = 0, \n",
        "           inplace = True,\n",
        "           subset=['X18','X19','X20','X21','X22','X23']\n",
        "           ) \n",
        "for x in df.columns[18:24]:\n",
        "    print(f'nans in {x}:',df.loc[df[x].isna()].shape[0])\n",
        "print('------------------------------imputacion-------------------------------------------')\n",
        "# fill with moda de cada cliente en los que sobran \n",
        "df.loc[df[['X18','X19','X20','X21','X22','X23']].isna().any(axis=1),['X18','X19','X20','X21','X22','X23']]=df.loc[df[['X18','X19','X20','X21','X22','X23']].isna().any(axis=1)][['X18','X19','X20','X21','X22','X23']].apply(lambda x: x.fillna(x.mean() ) ,axis=1 )\n",
        "for x in df.columns[18:24]:\n",
        "    print(f'nans in {x}:',df.loc[df[x].isna()].shape[0])"
      ]
    },
    {
      "cell_type": "markdown",
      "metadata": {},
      "source": [
        "# Preguntas\n",
        "<ol start=\"1\">\n",
        "  <li>¿Qué datos considero mas importantes? ¿Por qué?</li>\n",
        "  <ul>Todos los que tenian que ver con los pagos en los ultimos meses los considere importante ya que estan relacionados </ul>\n",
        "  <li>¿Se eliminaron o reemplazaron datos nulos? ¿Qué se hizo y por qué?</li>\n",
        "  <ul>lo que se hizo y su razon estan en el apartado de explicacion en la parte superior del notebook </ul>\n",
        "  <li>¿Es necesario ordenar los datos para el análisis? Sí / No / ¿Por qué?</li>\n",
        "  <ul>Depende si es un problema donde el orden sea importante, por ejemplo en este caso el orden de los pagos por mes es importante </ul>\n",
        "\n",
        "  <li>¿Existen problemas de formato que deban solucionar antes del proceso de modelado? Sí / No / Por qué.</li>\n",
        "  <ul>Creo las columnas de los pagos del mes son confusas pero no se me ocurre una mejor representacion</ul>\n",
        "\n",
        "  <li>¿Qué ajustes se realizaron en el proceso de limpieza de datos (agregar, integrar, eliminar, modificar registros (filas), cambiar atributos (columnas)?</li>\n",
        "  <ul>Tambien se explica en el apartado de explicacion</ul>\n",
        "</ol>"
      ]
    }
  ],
  "metadata": {
    "colab": {
      "include_colab_link": true,
      "name": "assignment01.ipynb",
      "provenance": []
    },
    "kernelspec": {
      "display_name": "Python 3.7.1 32-bit",
      "language": "python",
      "name": "python3"
    },
    "language_info": {
      "codemirror_mode": {
        "name": "ipython",
        "version": 3
      },
      "file_extension": ".py",
      "mimetype": "text/x-python",
      "name": "python",
      "nbconvert_exporter": "python",
      "pygments_lexer": "ipython3",
      "version": "3.7.1"
    },
    "vscode": {
      "interpreter": {
        "hash": "ed641e6499d6fe17719dcc79bdca680b680869cc93d720c76c2e6883f4e1b882"
      }
    }
  },
  "nbformat": 4,
  "nbformat_minor": 0
}
